{
  "nbformat": 4,
  "nbformat_minor": 0,
  "metadata": {
    "colab": {
      "name": "IntroToPytho.ipynb",
      "provenance": []
    },
    "kernelspec": {
      "name": "python3",
      "display_name": "Python 3"
    }
  },
  "cells": [
    {
      "cell_type": "code",
      "metadata": {
        "id": "dmf0TJ59enlt",
        "colab_type": "code",
        "colab": {}
      },
      "source": [
        "# The first symbol (#) on this line hides the line from Python."
      ],
      "execution_count": 0,
      "outputs": []
    },
    {
      "cell_type": "code",
      "metadata": {
        "id": "HA8RdUMpe64c",
        "colab_type": "code",
        "outputId": "1333b07c-6d46-4009-eb0d-c701ab59aaf9",
        "colab": {
          "base_uri": "https://localhost:8080/",
          "height": 101
        }
      },
      "source": [
        "# Strings\n",
        "  \n",
        "mystring = \"winnie THE pooh\"\n",
        "print(mystring)\n",
        "print(mystring.title())\n",
        "print(mystring.upper())\n",
        "print(mystring.lower())\n",
        "print(mystring.title() + \" is the name of a bear.\")"
      ],
      "execution_count": 0,
      "outputs": [
        {
          "output_type": "stream",
          "text": [
            "winnie THE pooh\n",
            "Winnie The Pooh\n",
            "WINNIE THE POOH\n",
            "winnie the pooh\n",
            "Winnie The Pooh is the name of a bear.\n"
          ],
          "name": "stdout"
        }
      ]
    },
    {
      "cell_type": "code",
      "metadata": {
        "id": "nu6kduD1gbK1",
        "colab_type": "code",
        "outputId": "78dc8286-0f3f-46c6-c071-ee522f516c4d",
        "colab": {
          "base_uri": "https://localhost:8080/",
          "height": 84
        }
      },
      "source": [
        "# Integers and lists\n",
        "# A list looks like [1,2,3].  \n",
        "# Here is a program the finds the primes less than 100\n",
        "\n",
        "n = 2                 # Initial value\n",
        "primes = [2]          # Initial value\n",
        "while n < 100:        # Begin a while-loop\n",
        "  prod = 1            # Initial value within loop\n",
        "  for x in primes:    # Begin a for-loop that scans the elements of primes\n",
        "    prod = prod*(n%x) # Multiply prod by the remainder when n is divided by x\n",
        "  if prod != 0:       # prod will be 0 if n is divisible by one of the primes already found\n",
        "    primes.append(n)  # If prod is not 0, we've found a prime.  We update \"primes\" accordingly.  \n",
        "                      # We changed the content of the variable \"primes\" without using \"=\".\n",
        "  n=n+1               # Go to the next n\n",
        "print(primes)\n",
        "print(\"\\n\")\n",
        "print(len(primes))"
      ],
      "execution_count": 0,
      "outputs": [
        {
          "output_type": "stream",
          "text": [
            "[2, 3, 5, 7, 11, 13, 17, 19, 23, 29, 31, 37, 41, 43, 47, 53, 59, 61, 67, 71, 73, 79, 83, 89, 97]\n",
            "\n",
            "\n",
            "25\n"
          ],
          "name": "stdout"
        }
      ]
    },
    {
      "cell_type": "code",
      "metadata": {
        "id": "jIu9BXazlHml",
        "colab_type": "code",
        "outputId": "fa7571ee-6f99-4c20-cea1-3a4ff5c11351",
        "colab": {
          "base_uri": "https://localhost:8080/",
          "height": 151
        }
      },
      "source": [
        "# Many methods violate \"value persistence.\"  E.g., .append(n) in the last cell.\n",
        "# What the variable \"mylist\" denotes gets changed without using = explicitly.\n",
        "# The .pop() method is another example. \n",
        "\n",
        "mylist = [\"a\",\"b\",\"c\",1,2,3]      # Sample list.\n",
        "print(mylist)                     # Print it.\n",
        "print(mylist.pop())               # Observe that mylist.pop() returns the last element of mylist.\n",
        "print(mylist)                     # But whenever .pop() is applied to mylist, mylist is itself modified.\n",
        "mylistpopped = mylist.pop()       # The last value in the (now modified) mylist is stored, and mylist is modified again.\n",
        "print(mylist)\n",
        "print(mylistpopped)\n",
        "print(mylist.pop(0))\n",
        "print(mylist)\n",
        "print(mylist.pop(1))"
      ],
      "execution_count": 0,
      "outputs": [
        {
          "output_type": "stream",
          "text": [
            "['a', 'b', 'c', 1, 2, 3]\n",
            "3\n",
            "['a', 'b', 'c', 1, 2]\n",
            "['a', 'b', 'c', 1]\n",
            "2\n",
            "a\n",
            "['b', 'c', 1]\n",
            "c\n"
          ],
          "name": "stdout"
        }
      ]
    },
    {
      "cell_type": "code",
      "metadata": {
        "id": "drDEXdS7wazZ",
        "colab_type": "code",
        "outputId": "23f848b8-753b-4cc0-87cc-dee1ad03316e",
        "colab": {
          "base_uri": "https://localhost:8080/",
          "height": 34
        }
      },
      "source": [
        "a = [1,2,3]\n",
        "b = [4,5,6]\n",
        "c = [7,8,9]\n",
        "ls = [a,b,c]\n",
        "for x in ls:\n",
        "  x.append(sum(x))\n",
        "print(ls)"
      ],
      "execution_count": 0,
      "outputs": [
        {
          "output_type": "stream",
          "text": [
            "[[1, 2, 3, 6], [4, 5, 6, 15], [7, 8, 9, 24]]\n"
          ],
          "name": "stdout"
        }
      ]
    },
    {
      "cell_type": "code",
      "metadata": {
        "id": "6ejvOoyqzibt",
        "colab_type": "code",
        "outputId": "6e1f8d2f-7c65-4edb-d889-cf1d84474474",
        "colab": {
          "base_uri": "https://localhost:8080/",
          "height": 34
        }
      },
      "source": [
        "def best_fit(X, Y):\n",
        "\n",
        "    xbar = sum(X)/len(X)\n",
        "    ybar = sum(Y)/len(Y)\n",
        "    n = len(X) # or len(Y)\n",
        "\n",
        "    numer = sum([xi*yi for xi,yi in zip(X, Y)]) - n * xbar * ybar # zip lets you scan over two lists at once \n",
        "    denum = sum([xi**2 for xi in X]) - n * xbar**2\n",
        "\n",
        "    b = numer / denum\n",
        "    a = ybar - b * xbar\n",
        "\n",
        "    # print('best fit line:\\ny = {:.2f} + {:.2f}x'.format(a, b))\n",
        "\n",
        "    return [a, b]\n",
        "\n",
        "# Example.\n",
        "best_fit([1,2,3], [4,3,5])"
      ],
      "execution_count": 0,
      "outputs": [
        {
          "output_type": "execute_result",
          "data": {
            "text/plain": [
              "[3.0, 0.5]"
            ]
          },
          "metadata": {
            "tags": []
          },
          "execution_count": 62
        }
      ]
    },
    {
      "cell_type": "code",
      "metadata": {
        "id": "U0WAm3WZwvuP",
        "colab_type": "code",
        "outputId": "2ee58008-ab03-4b8a-ce51-4b6283dd3fe7",
        "colab": {
          "base_uri": "https://localhost:8080/",
          "height": 34
        }
      },
      "source": [
        "from math import log, exp\n",
        "\n",
        "def pincr(lsu):\n",
        "  xx = list(range(len(lsu)))\n",
        "  yy = list(map(log,lsu))\n",
        "  #print([xx,yy])\n",
        "  #print(\"\\n\")\n",
        "  return round(100*(exp(best_fit(xx, yy).pop())-1))\n",
        "\n",
        "print(pincr([303,305,307,302,301]))"
      ],
      "execution_count": 0,
      "outputs": [
        {
          "output_type": "stream",
          "text": [
            "0\n"
          ],
          "name": "stdout"
        }
      ]
    },
    {
      "cell_type": "code",
      "metadata": {
        "id": "hUTpBeqy2yeb",
        "colab_type": "code",
        "outputId": "1f5032fd-e2de-40a0-e372-cdd937080320",
        "colab": {
          "base_uri": "https://localhost:8080/",
          "height": 34
        }
      },
      "source": [
        "ls=[1,2,3,4,5]\n",
        "print(list(map(lambda x: x ** 2, ls)))  # We use the lambda construction to name a function."
      ],
      "execution_count": 0,
      "outputs": [
        {
          "output_type": "stream",
          "text": [
            "[1, 4, 9, 16, 25]\n"
          ],
          "name": "stdout"
        }
      ]
    },
    {
      "cell_type": "code",
      "metadata": {
        "id": "ney__kDrAKgG",
        "colab_type": "code",
        "colab": {}
      },
      "source": [
        ""
      ],
      "execution_count": 0,
      "outputs": []
    }
  ]
}