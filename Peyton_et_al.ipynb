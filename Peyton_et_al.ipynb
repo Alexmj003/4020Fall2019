{
  "nbformat": 4,
  "nbformat_minor": 0,
  "metadata": {
    "colab": {
      "name": "Peyton-et-al.ipynb",
      "provenance": [],
      "collapsed_sections": []
    },
    "kernelspec": {
      "name": "python3",
      "display_name": "Python 3"
    }
  },
  "cells": [
    {
      "cell_type": "code",
      "metadata": {
        "id": "WoYFTJIp9YX3",
        "colab_type": "code",
        "colab": {}
      },
      "source": [
        "import pandas as pd\n",
        "pd.set_option(\"display.expand_frame_repr\", False)"
      ],
      "execution_count": 0,
      "outputs": []
    },
    {
      "cell_type": "code",
      "metadata": {
        "id": "kq8Xw__xChKH",
        "colab_type": "code",
        "outputId": "efaec5cf-947a-4031-bc92-0ab3ffc563fd",
        "colab": {
          "base_uri": "https://localhost:8080/",
          "height": 104
        }
      },
      "source": [
        "# You don't need this cell if you have access to a copy of allsubpcst.xlsx. \n",
        "# If you don't have allsubpcst.xlsx, copy the AllStates files into the colab working \n",
        "# directory (as described previously). Then run the following cell to create \n",
        "# and store the file \"allsubpcst.xlsx\".\n",
        "# If you do have allsubpcst.xlsx, then skip this cell.\n",
        "\n",
        "subjsheets = []\n",
        "for x in list(range(2012, 2019)): # Note that the last number in the range is one less than the second argument\n",
        "    subjsheets.append(pd.read_excel(\"AllStates-{}.xls\".format(x), 'PreparedBySubject'))\n",
        "allsub = pd.concat(subjsheets)\n",
        "\n",
        "# Inspection shows that the entries in the \"ProgramCode\" column are sometimes \n",
        "# stored as numbers and sometimes as strings, so we turn them all into strings.\n",
        "allsub[\"ProgramCode\"] = allsub[\"ProgramCode\"].astype(str)\n",
        "\n",
        "# Next, we export the data frame as an excel file, which will appear in the colab working directory.\n",
        "allsub.to_excel(\"allsubpcst.xlsx\")\n",
        "# \"allsub.xlsx\" will appear in the working files. You can then save it on your computer.\n"
      ],
      "execution_count": 0,
      "outputs": [
        {
          "output_type": "stream",
          "text": [
            "WARNING *** OLE2 inconsistency: SSCS size is 0 but SSAT size is non-zero\n",
            "WARNING *** OLE2 inconsistency: SSCS size is 0 but SSAT size is non-zero\n",
            "WARNING *** OLE2 inconsistency: SSCS size is 0 but SSAT size is non-zero\n",
            "WARNING *** OLE2 inconsistency: SSCS size is 0 but SSAT size is non-zero\n",
            "WARNING *** OLE2 inconsistency: SSCS size is 0 but SSAT size is non-zero\n"
          ],
          "name": "stdout"
        }
      ]
    },
    {
      "cell_type": "code",
      "metadata": {
        "id": "m8Wf3b6wHk5B",
        "colab_type": "code",
        "outputId": "143dee77-6b20-4d07-e445-e5b99257e4b0",
        "colab": {
          "base_uri": "https://localhost:8080/",
          "height": 279
        }
      },
      "source": [
        "# If you have \"allsubpcst.xlsx\", upload it to the working directory.\n",
        "# The following will define the dataframe subjfr in Pandas.\n",
        "subjfr = pd.read_excel(\"allsubpcst.xlsx\") # Note: the variable subjfr contains the contents of the xlsx file.\n",
        "print(subjfr)"
      ],
      "execution_count": 0,
      "outputs": [
        {
          "output_type": "stream",
          "text": [
            "        Unnamed: 0    State  ReportYear ProgramCode                 Program  ProgramType RecordType  CIPCode                                       Category  Prepared       OtherSpecify\n",
            "0                0  Alabama        2012        1003  Alabama A&M University  Traditional    Subject  13.1000          Teacher Education - Special Education         3                NaN\n",
            "1                1  Alabama        2012        1003  Alabama A&M University  Traditional    Subject  13.1210  Teacher Education - Early Childhood Education        10                NaN\n",
            "2                2  Alabama        2012        1003  Alabama A&M University  Traditional    Subject  13.1202       Teacher Education - Elementary Education        28                NaN\n",
            "3                3  Alabama        2012        1003  Alabama A&M University  Traditional    Subject  13.1301                Teacher Education - Agriculture         4                NaN\n",
            "4                4  Alabama        2012        1003  Alabama A&M University  Traditional    Subject  13.1302                        Teacher Education - Art         1                NaN\n",
            "...            ...      ...         ...         ...                     ...          ...        ...      ...                                            ...       ...                ...\n",
            "211334       30038  Wyoming        2018        4855   University of Wyoming  Traditional    Subject  13.1328                    Teacher Education - History        17                NaN\n",
            "211335       30039  Wyoming        2018        4855   University of Wyoming  Traditional    Subject  13.1330                    Teacher Education - Spanish         2                NaN\n",
            "211336       30040  Wyoming        2018        4855   University of Wyoming  Traditional    Subject  13.1332                  Teacher Education - Geography         1                NaN\n",
            "211337       30041  Wyoming        2018        4855   University of Wyoming  Traditional    Subject  13.1337              Teacher Education - Earth Science         1                NaN\n",
            "211338       30042  Wyoming        2018        4855   University of Wyoming  Traditional    Subject  13.9900                              Education - Other         1  Political Science\n",
            "\n",
            "[211339 rows x 11 columns]\n"
          ],
          "name": "stdout"
        }
      ]
    },
    {
      "cell_type": "code",
      "metadata": {
        "id": "B-Do6tNXNVEU",
        "colab_type": "code",
        "outputId": "cbf49674-c341-4c61-f964-4f2af16eae97",
        "colab": {
          "base_uri": "https://localhost:8080/",
          "height": 605
        }
      },
      "source": [
        "subjfr['Category'].unique()"
      ],
      "execution_count": 0,
      "outputs": [
        {
          "output_type": "execute_result",
          "data": {
            "text/plain": [
              "array(['Teacher Education - Special Education',\n",
              "       'Teacher Education - Early Childhood Education',\n",
              "       'Teacher Education - Elementary Education',\n",
              "       'Teacher Education - Agriculture', 'Teacher Education - Art',\n",
              "       'Teacher Education - English/Language Arts',\n",
              "       'Teacher Education - Mathematics', 'Teacher Education - Music',\n",
              "       'Teacher Education - Physical Education and Coaching',\n",
              "       'Teacher Education - Social Science',\n",
              "       'Teacher Education - Biology',\n",
              "       'Teacher Education - Secondary Education',\n",
              "       'Teacher Education - Business',\n",
              "       'Teacher Education - Family and Consumer Sciences/Home Economics',\n",
              "       'Teacher Education - Science Teacher Education/General Science',\n",
              "       'Teacher Education - Foreign Language',\n",
              "       'Teacher Education - Health',\n",
              "       'Teacher Education - Technology Teacher Education/Industrial Arts',\n",
              "       'Teacher Education - Reading',\n",
              "       'Teacher Education - Social Studies',\n",
              "       'Teacher Education - Technical Education',\n",
              "       'Teacher Education - Computer Science',\n",
              "       'Teacher Education - Chemistry',\n",
              "       'Teacher Education - Drama and Dance',\n",
              "       'Teacher Education - French', 'Teacher Education - German',\n",
              "       'Teacher Education - History', 'Teacher Education - Physics',\n",
              "       'Teacher Education - Spanish', 'Teacher Education - Speech',\n",
              "       'Teacher Education - Geography', 'Teacher Education - Latin',\n",
              "       'Teacher Education - Psychology',\n",
              "       'Teacher Education - Earth Science',\n",
              "       'Teacher Education - English as a Second Language',\n",
              "       'Teacher Education - Bilingual, Multilingual, and Multicultural Education',\n",
              "       'Education - Other', 'Education - General',\n",
              "       'Teacher Education - Junior High/Intermediate/Middle School Education',\n",
              "       'Teacher Education - Multiple Levels',\n",
              "       'Teacher Education- History'], dtype=object)"
            ]
          },
          "metadata": {
            "tags": []
          },
          "execution_count": 4
        }
      ]
    },
    {
      "cell_type": "code",
      "metadata": {
        "id": "J0-GpKuEKcVg",
        "colab_type": "code",
        "outputId": "0f68b702-a2b0-4710-f6d3-d7c93ace50b7",
        "colab": {
          "base_uri": "https://localhost:8080/",
          "height": 207
        }
      },
      "source": [
        "# Next, we create mathfr, a record just of the math completers. \n",
        "\n",
        "mathfr = subjfr.loc[subjfr.Category == \"Teacher Education - Mathematics\"]\n",
        "\n",
        "for col in mathfr.columns: \n",
        "    print(col)"
      ],
      "execution_count": 0,
      "outputs": [
        {
          "output_type": "stream",
          "text": [
            "Unnamed: 0\n",
            "State\n",
            "ReportYear\n",
            "ProgramCode\n",
            "Program\n",
            "ProgramType\n",
            "RecordType\n",
            "CIPCode\n",
            "Category\n",
            "Prepared\n",
            "OtherSpecify\n"
          ],
          "name": "stdout"
        }
      ]
    },
    {
      "cell_type": "code",
      "metadata": {
        "id": "7W6f0aF-iOAA",
        "colab_type": "code",
        "colab": {}
      },
      "source": [
        "# To export mathfr to the colab working directory as an excel file:\n",
        "mathfr.to_excel(\"mathfr.xlsx\")"
      ],
      "execution_count": 0,
      "outputs": []
    },
    {
      "cell_type": "code",
      "metadata": {
        "id": "sUqqohVeHhac",
        "colab_type": "code",
        "colab": {}
      },
      "source": [
        "# To store 'mathfr.xlsx' on my computer when it's in the colab working directory:\n",
        "from google.colab import files\n",
        "files.download('mathfr.xlsx') "
      ],
      "execution_count": 0,
      "outputs": []
    },
    {
      "cell_type": "code",
      "metadata": {
        "id": "TEMlBcyBXWKU",
        "colab_type": "code",
        "colab": {}
      },
      "source": [
        "# To create a data frame in pandas from 'mathfr.xlsx', if it's in the colab working directory:\n",
        "mathfr = pd.read_excel(\"mathfr.xlsx\")"
      ],
      "execution_count": 0,
      "outputs": []
    },
    {
      "cell_type": "code",
      "metadata": {
        "id": "KX4yYymmQajn",
        "colab_type": "code",
        "outputId": "0e12dfd1-21c3-4589-a351-10deee4e4725",
        "colab": {
          "base_uri": "https://localhost:8080/",
          "height": 397
        }
      },
      "source": [
        "# Here, we use .pivot_table(...) to alter the shape of mathfr.\n",
        "mathfr_p = mathfr.pivot_table(\n",
        "    index = [\"State\",\"ProgramCode\",\"ProgramType\"], \n",
        "    columns = 'ReportYear', \n",
        "    values = 'Prepared',\n",
        "    aggfunc = sum, # means that the marginal values will be the row-sum\n",
        "    margins = True, # include the row marginals\n",
        "    margins_name = 'Total' # name the column containing the row marginals\n",
        "    )\n",
        "\n",
        "print(pd.DataFrame(mathfr_p.sort_values('Total',ascending = False), dtype=object).head(20))"
      ],
      "execution_count": 0,
      "outputs": [
        {
          "output_type": "stream",
          "text": [
            "ReportYear                                          2012   2013   2014   2015   2016   2017   2018  Total\n",
            "State      ProgramCode ProgramType                                                                       \n",
            "Total                                              14858  14793  14367  13787  11917  11203  10639  91564\n",
            "Texas      101714      Alternative, not IHE-based    290    266    254    340    239    265    399   2053\n",
            "New Jersey 7666        Alternative, not IHE-based     90    194    188    138     83    NaN    NaN    693\n",
            "Texas      236501      Traditional                    43     62      8     54     43     46    289    545\n",
            "           101512      Traditional                   264    246    NaN      3      5      4      9    531\n",
            "Michigan   182         Traditional                    68     94     95     77     61     60     56    511\n",
            "Texas      101715      Alternative, not IHE-based     16      9     13     48     96    212     83    477\n",
            "Michigan   223         Traditional                    41     96     91     73     53     71     45    470\n",
            "           323         Traditional                    83     79     61     55     72     51     53    454\n",
            "           122         Traditional                    48     72     70     54     70     47     42    403\n",
            "Texas      101912      Alternative, not IHE-based     25      6    100     79     77     64     46    397\n",
            "           021501      Traditional                    17    NaN    140    NaN    NaN    135     99    391\n",
            "           105501      Traditional                    52     65     71     53     51     47     49    388\n",
            "Utah       4019        Traditional                    55     61     58     59     48     40     41    362\n",
            "Texas      071501      Traditional                   227    NaN     68    NaN    NaN     29     35    359\n",
            "New York   680         Alternative, IHE-based         38     22     47    112     28     48     61    356\n",
            "Texas      21501       Traditional                   NaN     95    NaN    134    118    NaN    NaN    347\n",
            "           015505      Traditional                    45    NaN     54    NaN    NaN    227     14    340\n",
            "Iowa       6306        Traditional                    33     32     52     38     80     36     69    340\n",
            "Arizona    155         Traditional                    82     49     48     31     29     37     59    335\n"
          ],
          "name": "stdout"
        }
      ]
    },
    {
      "cell_type": "code",
      "metadata": {
        "id": "BIm-_-7ljH-I",
        "colab_type": "code",
        "colab": {}
      },
      "source": [
        "# If we download mathfr_p and save it as an excel file, we find merged cells in the columns.\n",
        "# If you run this cell, you will be given the opportunity to save 'mathfr_p.xlsx'.\n",
        "# Then you can inspect it.\n",
        "mathfr_p.to_excel(\"mathfr_p.xlsx\")\n",
        "from google.colab import files\n",
        "files.download('mathfr_p.xlsx') \n"
      ],
      "execution_count": 0,
      "outputs": []
    },
    {
      "cell_type": "code",
      "metadata": {
        "id": "JXQEk9bCne8I",
        "colab_type": "code",
        "colab": {}
      },
      "source": [
        "# In order to convert mathfr_p to a simple data frame object (a spreadsheet without merged cells):\n",
        "mathfr_pr = pd.DataFrame(mathfr_p.reset_index(), dtype=object)\n",
        "\n",
        "# Notice that we used  pd.DataFrame(_, dtype=object) before.  This makes the entries integers rather than floating point."
      ],
      "execution_count": 0,
      "outputs": []
    },
    {
      "cell_type": "code",
      "metadata": {
        "id": "JyUpQl9gn-IT",
        "colab_type": "code",
        "outputId": "cf1bbab4-bd02-4515-f273-756ef70e3945",
        "colab": {
          "base_uri": "https://localhost:8080/",
          "height": 725
        }
      },
      "source": [
        "print(mathfr_pr.head(40))"
      ],
      "execution_count": 0,
      "outputs": [
        {
          "output_type": "stream",
          "text": [
            "ReportYear    State ProgramCode             ProgramType 2012 2013 2014 2015 2016 2017 2018 Total\n",
            "0           Alabama        1003  Alternative, IHE-based    4    3    2  NaN    1  NaN  NaN    10\n",
            "1           Alabama        1003             Traditional    3    1  NaN    2  NaN  NaN  NaN     6\n",
            "2           Alabama        1004  Alternative, IHE-based    4    4    9    3    2    6    0    28\n",
            "3           Alabama        1004             Traditional  NaN  NaN  NaN  NaN  NaN  NaN    0     0\n",
            "4           Alabama        1005  Alternative, IHE-based  NaN    1  NaN    1    3  NaN  NaN     5\n",
            "5           Alabama        1005             Traditional   14   20   15   17   19   16    5   106\n",
            "6           Alabama        1006  Alternative, IHE-based    4   11  NaN  NaN    2    1  NaN    18\n",
            "7           Alabama        1006             Traditional    1    0    7    2    1  NaN  NaN    11\n",
            "8           Alabama        1024             Traditional   30   19   31   12   15   13    8   128\n",
            "9           Alabama        1036  Alternative, IHE-based    2    0    2    4    1    2  NaN    11\n",
            "10          Alabama        1036             Traditional    1    3  NaN    2    2    0  NaN     8\n",
            "11          Alabama        1064             Traditional    3    1    0  NaN  NaN  NaN  NaN     4\n",
            "12          Alabama        1068  Alternative, IHE-based    1    1  NaN  NaN    1    1    1     5\n",
            "13          Alabama        1068             Traditional    1    2    1    2    2  NaN  NaN     8\n",
            "14          Alabama        1303             Traditional    3    0  NaN    1  NaN  NaN    2     6\n",
            "15          Alabama        1349             Traditional  NaN  NaN  NaN    0    0  NaN  NaN     0\n",
            "16          Alabama        1468             Traditional    2  NaN    1    0    1  NaN  NaN     4\n",
            "17          Alabama        1515  Alternative, IHE-based    0  NaN  NaN  NaN  NaN  NaN  NaN     0\n",
            "18          Alabama        1515             Traditional    0    3    1    1  NaN    1    1     7\n",
            "19          Alabama        1586             Traditional    0  NaN    3    4  NaN  NaN    1     8\n",
            "20          Alabama        1721  Alternative, IHE-based  NaN  NaN    5    5    8    4    6    28\n",
            "21          Alabama        1721             Traditional    1    2  NaN  NaN  NaN  NaN    2     5\n",
            "22          Alabama        1733             Traditional    1  NaN  NaN  NaN    4    1    1     7\n",
            "23          Alabama        1735  Alternative, IHE-based    1    1    3    1  NaN    1    1     8\n",
            "24          Alabama        1735             Traditional    2   11   10    6    6    8    9    52\n",
            "25          Alabama        1736  Alternative, IHE-based    4    2    2    4    4    3    2    21\n",
            "26          Alabama        1736             Traditional    8   11   11    9    5    7    7    58\n",
            "27          Alabama        1737  Alternative, IHE-based    1    2    1    1    1    1    4    11\n",
            "28          Alabama        1737             Traditional    7    2    6  NaN    1    4  NaN    20\n",
            "29          Alabama        1738  Alternative, IHE-based    1    2    1    3    3    2    4    16\n",
            "30          Alabama        1738             Traditional    5    7    4    9   11   14    8    58\n",
            "31          Alabama        1739             Traditional  NaN  NaN    1  NaN  NaN  NaN  NaN     1\n",
            "32          Alabama        1800             Traditional    0  NaN    1  NaN  NaN  NaN  NaN     1\n",
            "33          Alabama        1813             Traditional  NaN  NaN  NaN  NaN    2  NaN  NaN     2\n",
            "34          Alabama        1854  Alternative, IHE-based  NaN  NaN    1  NaN    1  NaN    3     5\n",
            "35          Alabama        1854             Traditional    1    3    1    3    1    3    2    14\n",
            "36          Alabama        1856  Alternative, IHE-based    6    8    7   10    5    5    4    45\n",
            "37          Alabama        1856             Traditional  NaN    2   11  NaN  NaN    4    2    19\n",
            "38          Alabama        1858  Alternative, IHE-based    2    1    2    4    1    4    7    21\n",
            "39          Alabama        1858             Traditional    3   11   11    9   10    7   10    61\n"
          ],
          "name": "stdout"
        }
      ]
    },
    {
      "cell_type": "code",
      "metadata": {
        "id": "F71Y3H-SSwLq",
        "colab_type": "code",
        "outputId": "a1bcc1d0-e1a2-412b-f761-5ece84e48aed",
        "colab": {
          "base_uri": "https://localhost:8080/",
          "height": 898
        }
      },
      "source": [
        "print(mathfr_pr.sort_values('ProgramCode').tail(50))"
      ],
      "execution_count": 0,
      "outputs": [
        {
          "output_type": "stream",
          "text": [
            "ReportYear    State ProgramCode                 ProgramType 2012 2013 2014 2015 2016 2017 2018 Total\n",
            "577         Georgia     GA10148                 Traditional  NaN  NaN  NaN  NaN  NaN    5  NaN     5\n",
            "578         Georgia     GA10224  Alternative, not IHE-based  NaN  NaN  NaN  NaN  NaN   18   12    30\n",
            "579         Georgia      GA1186                 Traditional  NaN  NaN  NaN  NaN  NaN    9    5    14\n",
            "580         Georgia      GA1351                 Traditional  NaN  NaN  NaN  NaN  NaN    1    2     3\n",
            "581         Georgia      GA2920                 Traditional  NaN  NaN  NaN  NaN  NaN    2    3     5\n",
            "582         Georgia      GA2930                 Traditional  NaN  NaN  NaN  NaN  NaN    2    5     7\n",
            "583         Georgia      GA3030                 Traditional  NaN  NaN  NaN  NaN  NaN    3    2     5\n",
            "584         Georgia      GA3050                 Traditional  NaN  NaN  NaN  NaN  NaN   19   14    33\n",
            "585         Georgia      GA3060                 Traditional  NaN  NaN  NaN  NaN  NaN    3    1     4\n",
            "586         Georgia      GA3090                 Traditional  NaN  NaN  NaN  NaN  NaN   16   16    32\n",
            "587         Georgia      GA3130                 Traditional  NaN  NaN  NaN  NaN  NaN   16    8    24\n",
            "588         Georgia      GA3140                 Traditional  NaN  NaN  NaN  NaN  NaN    7    7    14\n",
            "589         Georgia      GA3150                 Traditional  NaN  NaN  NaN  NaN  NaN  NaN    1     1\n",
            "590         Georgia      GA4315                 Traditional  NaN  NaN  NaN  NaN  NaN    2    3     5\n",
            "591         Georgia      GA5070                 Traditional  NaN  NaN  NaN  NaN  NaN   24   18    42\n",
            "592         Georgia      GA5080                 Traditional  NaN  NaN  NaN  NaN  NaN   49   36    85\n",
            "593         Georgia      GA5090                 Traditional  NaN  NaN  NaN  NaN  NaN   28   31    59\n",
            "594         Georgia      GA5210                 Traditional  NaN  NaN  NaN  NaN  NaN    5    4     9\n",
            "595         Georgia      GA5240                 Traditional  NaN  NaN  NaN  NaN  NaN    7   14    21\n",
            "596         Georgia      GA5270                 Traditional  NaN  NaN  NaN  NaN  NaN   16   14    30\n",
            "597         Georgia      GA5285                 Traditional  NaN  NaN  NaN  NaN  NaN    2    1     3\n",
            "598         Georgia      GA5330                 Traditional  NaN  NaN  NaN  NaN  NaN    5    2     7\n",
            "599         Georgia      GA5360                 Traditional  NaN  NaN  NaN  NaN  NaN   12   16    28\n",
            "600         Georgia      GA5390                 Traditional  NaN  NaN  NaN  NaN  NaN   18   16    34\n",
            "601         Georgia      GA5420                 Traditional  NaN  NaN  NaN  NaN  NaN    5    6    11\n",
            "602         Georgia      GA5540                 Traditional  NaN  NaN  NaN  NaN  NaN    5    8    13\n",
            "603         Georgia      GA5568                 Traditional  NaN  NaN  NaN  NaN  NaN    2    1     3\n",
            "604         Georgia      GA5660                 Traditional  NaN  NaN  NaN  NaN  NaN   14   11    25\n",
            "605         Georgia      GA5780                 Traditional  NaN  NaN  NaN  NaN  NaN   37   43    80\n",
            "606         Georgia      GA6311  Alternative, not IHE-based  NaN  NaN  NaN  NaN  NaN    4    4     8\n",
            "607         Georgia      GA6441  Alternative, not IHE-based  NaN  NaN  NaN  NaN  NaN    5    3     8\n",
            "608         Georgia      GA6601  Alternative, not IHE-based  NaN  NaN  NaN  NaN  NaN  NaN    3     3\n",
            "609         Georgia      GA6671  Alternative, not IHE-based  NaN  NaN  NaN  NaN  NaN    3    3     6\n",
            "610         Georgia      GA8504  Alternative, not IHE-based  NaN  NaN  NaN  NaN  NaN    2    3     5\n",
            "611         Georgia      GA8544  Alternative, not IHE-based  NaN  NaN  NaN  NaN  NaN  NaN    2     2\n",
            "612         Georgia      GA8564  Alternative, not IHE-based  NaN  NaN  NaN  NaN  NaN    2    8    10\n",
            "613         Georgia      GA8584  Alternative, not IHE-based  NaN  NaN  NaN  NaN  NaN    1  NaN     1\n",
            "614         Georgia      GA8601  Alternative, not IHE-based  NaN  NaN  NaN  NaN  NaN    1  NaN     1\n",
            "615         Georgia      GA8604  Alternative, not IHE-based  NaN  NaN  NaN  NaN  NaN  NaN    2     2\n",
            "616         Georgia      GA8624  Alternative, not IHE-based  NaN  NaN  NaN  NaN  NaN    4   12    16\n",
            "617         Georgia      GA8644  Alternative, not IHE-based  NaN  NaN  NaN  NaN  NaN    5    3     8\n",
            "618         Georgia      GA8664  Alternative, not IHE-based  NaN  NaN  NaN  NaN  NaN    2    3     5\n",
            "619         Georgia      GA8684  Alternative, not IHE-based  NaN  NaN  NaN  NaN  NaN    3    1     4\n",
            "620         Georgia      GA8804  Alternative, not IHE-based  NaN  NaN  NaN  NaN  NaN    1    1     2\n",
            "621         Georgia      GA8844  Alternative, not IHE-based  NaN  NaN  NaN  NaN  NaN    3    5     8\n",
            "622         Georgia      GA8884  Alternative, not IHE-based  NaN  NaN  NaN  NaN  NaN    2  NaN     2\n",
            "623         Georgia     GA98232                 Traditional  NaN  NaN  NaN  NaN  NaN    1    1     2\n",
            "624         Georgia     GA98254                 Traditional  NaN  NaN  NaN  NaN  NaN    9    4    13\n",
            "625         Georgia     GA98255                 Traditional  NaN  NaN  NaN  NaN  NaN   38   31    69\n",
            "889            Iowa      RA6417                 Traditional    0  NaN  NaN  NaN  NaN  NaN  NaN     0\n"
          ],
          "name": "stdout"
        }
      ]
    },
    {
      "cell_type": "code",
      "metadata": {
        "id": "r4KmWzFiS9b4",
        "colab_type": "code",
        "colab": {}
      },
      "source": [
        ""
      ],
      "execution_count": 0,
      "outputs": []
    }
  ]
}